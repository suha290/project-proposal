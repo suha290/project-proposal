{
 "cells": [
  {
   "cell_type": "markdown",
   "id": "7980dd3d",
   "metadata": {},
   "source": [
    "# Research Question"
   ]
  },
  {
   "cell_type": "markdown",
   "id": "a1103d10",
   "metadata": {},
   "source": [
    "To what extent does self-perceived loneliness vary across different education levels in Canada?"
   ]
  },
  {
   "cell_type": "markdown",
   "id": "815436d0",
   "metadata": {},
   "source": [
    "# Variables"
   ]
  },
  {
   "cell_type": "markdown",
   "id": "e9f4e9d5",
   "metadata": {},
   "source": [
    "- Education Level: A categorical variable representing different education levels (e.g., high school diploma, college diploma, bachelor’s degree, graduate degree).\n",
    "\n",
    "Education often shapes social networks and access to support systems, potentially influencing loneliness. Exploring these relationships may reveal critical insights for social health initiatives.\n",
    "\n",
    "- Self-Perceived Loneliness: A self-reported categorical that reflects participants’ sense of isolation or lack of companionship.\n",
    "\n",
    "Loneliness is an important indicator of mental well-being and social health, making it a valuable outcome variable for this analysis.\n",
    "\n",
    "**Control Variables:\n",
    "\n",
    "- Gender: A categorical variable (male, female, non-binary) that may affect social experiences and thus perceived loneliness.\n",
    "\n",
    "- Ethnicity: A categorical variable with various ethnic backgrounds (e.g. Asian) that could influence social networks and cultural experiences of loneliness."
   ]
  },
  {
   "cell_type": "markdown",
   "id": "3e523b63",
   "metadata": {},
   "source": [
    "**Visualisations**\n",
    "\n",
    "1. Bar Plots\n",
    "\n",
    "Bar plots provide a straightforward way to display the distribution of respondents across the categories of these variables. This is helpful for understanding the sample composition and identifying differences in educational attainment, ethnic background, or gender among participants. It also helps visualize patterns, such as whether certain educational levels, ethnic backgrounds, or genders have higher or lower frequencies.\n",
    "\n",
    "2. Stacked Bar Plot or Grouped Bar Plot\n",
    "\n",
    "Stacked bar charts can visualize the percentage distribution of loneliness categories within each education level, broken down by gender and ethnicity. For example, the x-axis could be Education levels and the y-axis could be percentage of total respondents within each education level. Each bar is divided into segments representing different loneliness categories, with color coding for gender and ethnicity. This visualization helps to highlight the proportions of each loneliness category within educational groups, providing insights into the distribution of loneliness and allowing for easy comparison between groups.\n",
    "\n",
    "3. Heatmaps\n",
    "\n",
    "Heatmaps can illustrate the interaction between education levels, gender, and loneliness categories, providing a visual summary of how these factors relate. For example, One axis represents education levels, while the other represents loneliness categories.\n",
    "The color intensity indicates the number of respondents in each category combination. Heatmaps allow for a quick visual assessment of where the highest concentrations of loneliness occur among different education levels and demographics, making patterns easy to identify.\n",
    "\n",
    "**Summary Statistics**\n",
    "\n",
    "- Frequency Counts\n",
    "\n",
    "We can count the number of respondents in each loneliness category. This gives a direct indication of how many individuals fall into each category and helps in understanding the distribution of loneliness across education levels.\n",
    "\n",
    "- Proportions\n",
    "\n",
    "Calculate the proportion of respondents in each loneliness category relative to the total number of respondents. Proportions provide insight into the relative distribution of loneliness categories within each education level."
   ]
  },
  {
   "cell_type": "markdown",
   "id": "ec3ff168",
   "metadata": {},
   "source": [
    "# Analysis"
   ]
  },
  {
   "cell_type": "markdown",
   "id": "94871b45",
   "metadata": {},
   "source": [
    "1. Data Preparation\n",
    "\n",
    "First, we will ensure that the dataset is cleaned and all relevant variables (loneliness, education level, gender, ethnicity) are appropriately formatted.\n",
    "\n",
    "2. Linear regression\n",
    "\n",
    "To assess the relationship between education level and loneliness while controlling for gender and ethnic background, we will use multiple linear regression with loneliness as the outcome variable, and education level, gender, and ethnic background as predictors.\n",
    "\n",
    "Regression Model:\n",
    "\n",
    "Loneliness = β0 + β1(Education Level) + β2(Gender) + β3(Ethnic Background) + ϵ\n",
    "\n",
    "Or in python:\n",
    "\n",
    "#Define the formula for the linear regression model\n",
    "formula = 'Loneliness ~ C(Education_Level) + C(Gender) + C(Ethnicity)'\n",
    "\n",
    "#Fit the model\n",
    "model = smf.ols(formula=formula, data=data).fit()\n",
    "\n",
    "#View the summary of the model\n",
    "print(model.summary())\n",
    "\n",
    "\n",
    "**Null Hypotheses for Each Coefficient**\n",
    "\n",
    "For each coefficient in your model, we will establish a null hypothesis that assumes there is no association between the predictor variable and the outcome variable (loneliness).\n",
    "\n",
    "- For Education Level:\n",
    "\n",
    "Null Hypothesis (H0,1): β1 = 0 (There is no average change in loneliness associated with changes in education level.)\n",
    "\n",
    "- For Gender:\n",
    "\n",
    "Null Hypothesis (H0,2): β2 = 0 (There is no average change in loneliness associated with changes in gender.)\n",
    "\n",
    "- For Ethnicity:\n",
    "Null Hypothesis (H0,3): β3 = 0 (There is no average change in loneliness associated with changes in ethnicity.)\n",
    "\n",
    "\n",
    "**Alternative Hypotheses**\n",
    "\n",
    "For each null hypothesis, the alternative hypothesis would assert that there is a significant association:\n",
    "\n",
    "- For Education Level:\n",
    "\n",
    "Alternative Hypothesis (H1,1): β1 ≠ 0\n",
    "\n",
    "- For Gender:\n",
    "\n",
    "Alternative Hypothesis (H1,2): β1 ≠ 0\n",
    "\n",
    "- For Ethnicity:\n",
    "\n",
    "Alternative Hypothesis (H1,3): β1 ≠ 0\n",
    "\n",
    "\n",
    "**Accessing p-values**\n",
    "\n",
    "Once we fit our model and obtain the summary statistics, we can extract the p-values for each coefficient using:\n",
    "\n",
    "#Extracting the p-values for hypothesis testing\n",
    "hypothesis_testing_table = model.summary().tables[1]\n",
    "print(hypothesis_testing_table)\n",
    "\n",
    "**Interpretation of Results**\n",
    "\n",
    "After we have the p-values for each coefficient:\n",
    "\n",
    "If the p-value for β1 (Education Level) is less than our significance level (typically 0.05), we reject it and conclude that education level significantly affects loneliness. Then we repeat this interpretation for gender (β2) and ethnicity (β3)\n",
    "\n",
    "**Assumptions**:\n",
    "\n",
    "- Linearity: There’s a linear relationship between loneliness and predictors.\n",
    "\n",
    "- Independence: Observations are independent of each other.\n",
    "\n",
    "- Homoscedasticity: Variance of residuals is constant across all groups.\n",
    "\n",
    "- Normality of errors: the ϵi errors are normally distributed.\n",
    "\n",
    "- Multicollinearity: Predictors are not highly correlated with each other, as high multicollinearity can distort the coefficients."
   ]
  },
  {
   "cell_type": "markdown",
   "id": "7ff5d0ae",
   "metadata": {},
   "source": [
    "# Hypothesis"
   ]
  },
  {
   "cell_type": "markdown",
   "id": "adeb3ef9",
   "metadata": {},
   "source": [
    "Our null hypotheses were as follows:\n",
    "(H0,1): β1 = 0, (H0,2): β2 = 0, (H0,3): β3 = 0 \n",
    "\n",
    "And our alternate hypotheses are:\n",
    "(H1,1): β1 ≠ 0, (H1,2): β2 ≠ 0, (H1,3): β3 ≠ 0\n",
    "\n",
    "**Expectation**\n",
    "\n",
    "- For education, we hypothesize that individuals with higher education levels (e.g. masters degree) may report lower levels of self-perceived loneliness compared to those with lower education levels (e.g. high school or less). This expectation is grounded in the idea that higher education can lead to better social integration and networking opportunities. We expect to reject the null hypothesis β1 with a p-value < 0.05, indicating a statistically significant relationship between education level and loneliness.\n",
    "\n",
    "- For gender, we hypothesize that there may be differences in loneliness levels between genders, with some studies suggesting that men may report higher loneliness due to socialization patterns that discourage emotional expression. Although overall, we belive gender has a non-significant effect on loneliness, leading us to fail to reject the null hypothesis β2 with a p-value > 0.05\n",
    "\n",
    "- For ethnicity, we hypothesize that individuals from minority ethnic backgrounds may experience higher levels of loneliness due to factors such as cultural disconnection or social isolation. We expect to reject the null hypothesis β3 with a p-value < 0.05, indicating that ethnicity significantly affects self-perceived loneliness.\n",
    "\n",
    "**Relevance of Results**\n",
    "\n",
    "The anticipated results of our analysis and our p-values will provide valuable insights into how self-perceived loneliness varies across educational levels, while also considering the effects of gender and ethnicity. "
   ]
  },
  {
   "cell_type": "markdown",
   "id": "b2bd65d4",
   "metadata": {},
   "source": [
    "# Ethical Considerations"
   ]
  },
  {
   "cell_type": "markdown",
   "id": "d86c2027",
   "metadata": {},
   "source": [
    "Avoid Stereotyping - It’s important to interpret findings responsibly to avoid reinforcing stereotypes about certain educational or ethnic groups being “more lonely” or “more connected.” Findings should be presented in a way that respects cultural diversity and emphasizes that loneliness is a complex, multifaceted experience."
   ]
  },
  {
   "cell_type": "markdown",
   "id": "39aa7883",
   "metadata": {},
   "source": [
    "**Group Partner**"
   ]
  },
  {
   "cell_type": "markdown",
   "id": "4f5300eb",
   "metadata": {},
   "source": [
    "I would like to have Tara Billa in my project group."
   ]
  }
 ],
 "metadata": {
  "kernelspec": {
   "display_name": "Python 3 (ipykernel)",
   "language": "python",
   "name": "python3"
  },
  "language_info": {
   "codemirror_mode": {
    "name": "ipython",
    "version": 3
   },
   "file_extension": ".py",
   "mimetype": "text/x-python",
   "name": "python",
   "nbconvert_exporter": "python",
   "pygments_lexer": "ipython3",
   "version": "3.11.6"
  }
 },
 "nbformat": 4,
 "nbformat_minor": 5
}
